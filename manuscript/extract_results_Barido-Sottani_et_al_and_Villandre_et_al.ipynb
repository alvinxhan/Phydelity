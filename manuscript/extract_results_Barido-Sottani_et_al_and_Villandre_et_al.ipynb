{
 "cells": [
  {
   "cell_type": "markdown",
   "metadata": {},
   "source": [
    "# Extracting results from Barido-Sottani et al. and Villandre et al. \n",
    "\n",
    "This jupyter notebook (in R) details the extraction of clustering results from the multi-state birth-death method by Barido-Sottani et al. (2018) as well as the optimal results from cutpoint-based methods analysed by Villandre et al. (2016). \n",
    "\n",
    "Before using this notebook, download the simulation data (supplementary files S9-S12) by [Villandre et al. (2016)](http://journals.plos.org/plosone/article?id=10.1371/journal.pone.0148459) and save them in the ./data/ folder.\n",
    "\n",
    "## Libraries and Inputs"
   ]
  },
  {
   "cell_type": "code",
   "execution_count": 1,
   "metadata": {},
   "outputs": [
    {
     "name": "stderr",
     "output_type": "stream",
     "text": [
      "Loading required package: ape\n",
      "Loading required package: data.table\n",
      "Loading required package: phangorn\n",
      "Loading required package: igraph\n",
      "\n",
      "Attaching package: ‘igraph’\n",
      "\n",
      "The following object is masked from ‘package:phangorn’:\n",
      "\n",
      "    diversity\n",
      "\n",
      "The following objects are masked from ‘package:ape’:\n",
      "\n",
      "    edges, mst, ring\n",
      "\n",
      "The following objects are masked from ‘package:stats’:\n",
      "\n",
      "    decompose, spectrum\n",
      "\n",
      "The following object is masked from ‘package:base’:\n",
      "\n",
      "    union\n",
      "\n"
     ]
    }
   ],
   "source": [
    "require(\"ape\")\n",
    "require(data.table)\n",
    "require(phangorn)\n",
    "require(igraph)\n",
    "\n",
    "data_dir <- './data/'"
   ]
  },
  {
   "cell_type": "markdown",
   "metadata": {},
   "source": [
    "## Parse simulation data \n",
    "\n",
    "Simulation data can be downloaded from the supplementary files provided by [Villandre et al (2016)](http://journals.plos.org/plosone/article?id=10.1371/journal.pone.0148459)"
   ]
  },
  {
   "cell_type": "code",
   "execution_count": 2,
   "metadata": {},
   "outputs": [],
   "source": [
    "setwd(data_dir)\n",
    "t1 <- get(load('C_data_weight1.RDATA'))\n",
    "t2 <- get(load('C_data_weight0.75.RDATA'))\n",
    "t3 <- get(load('C_data_weight0.5.RDATA'))\n",
    "t4 <- get(load('C_data_weight0.25.RDATA'))\n",
    "C_simData <- list(t1, t2, t3, t4)"
   ]
  },
  {
   "cell_type": "markdown",
   "metadata": {},
   "source": [
    "## Extract network annotations, simulation trees and cutpoint clustering results (WPGMA) from Villandre et al. (2016)\n",
    "\n",
    "Scripts were adapted and originally from supplementary files provided by [Barido-Sottani et al. (2018)](http://rsif.royalsocietypublishing.org/content/15/146/20180512)"
   ]
  },
  {
   "cell_type": "code",
   "execution_count": 3,
   "metadata": {},
   "outputs": [],
   "source": [
    "source(\"simData_to_trees.R\")\n",
    "dir.create(file.path('./', 'trees'))\n",
    "dir.create(file.path('./', 'wpgma'))\n",
    "\n",
    "get_trees_and_network_annotations <- function(vars,names) {\n",
    "  outputdf <- data.frame(matrix(ncol=5, nrow=0))\n",
    "  colnames(outputdf) <- c(\"d\", \"i\", \"j\", \"label\", \"real\")\n",
    "  for(v in 1:length(vars)) {\n",
    "    \n",
    "    t = vars[[v]]\n",
    "    n = length(t)\n",
    "    sd = names[v]\n",
    "    \n",
    "    # i = weight index \n",
    "    for(i in 1:n) {\n",
    "      \n",
    "      simout_file = paste0(sd,\"_IS_\",i,\"_data_table.RData\")\n",
    "      simout <- get(load(simout_file))\n",
    "        \n",
    "      n2=length(t[[i]])\n",
    "      # j = simulation index \n",
    "      for(j in 1:n2) {\n",
    "        \n",
    "        data = t[[i]][[j]]\n",
    "        \n",
    "        tree <- simout$tree[[j]]\n",
    "        tree_to_print <- as.phylo(tree)\n",
    "        treefname <- paste0(\"./trees/\",sd,\"_\",i,\"_\",j,\".nwk\")\n",
    "        write.tree(tree_to_print, file=treefname)\n",
    "          \n",
    "        labels = tree$tip.label\n",
    "          \n",
    "        # WPGMA cluster results \n",
    "        wpgma_results <- as.data.frame(data$clusters[[1]]$trueWPGMA)\n",
    "        wpgma_fname <- paste0(\"./wpgma/\",sd,\"_\",i,\"_\",j,\"_wpgma.csv\")\n",
    "        write.csv(wpgma_results, wpgma_fname)\n",
    "        \n",
    "        real = data$clusterIndices[as.numeric(labels)]\n",
    "        \n",
    "        tmp <- data.frame(sd, i, j, labels, real)\n",
    "        names(tmp) <- c(\"d\", \"i\", \"j\", \"label\", \"real\")\n",
    "        outputdf <- rbind(outputdf, tmp)\n",
    "      }\n",
    "    }\n",
    "  }\n",
    "  return (outputdf)\n",
    "}\n",
    "\n",
    "prepare_data_tables(list(C_simData), c(\"C\"))\n",
    "annotations = get_trees_and_network_annotations(list(C_simData), list('C'))\n",
    "write.csv(annotations, 'network_annotations.csv',row.names = F)"
   ]
  },
  {
   "cell_type": "markdown",
   "metadata": {},
   "source": [
    "## Extract MSBD clustering by Barido-Sottani et al. (2018)\n",
    "\n",
    "Here, we extract the clustering results using the MSBD model by Barido-Sottani et al. (2018) on the Villandre dataset. Download B_prec_lim8_ML_scores.RData and C_fast_lim8_ML_scores.RData from the supplementary data files provided and deposit them in the ./data/ folder. "
   ]
  },
  {
   "cell_type": "code",
   "execution_count": 4,
   "metadata": {},
   "outputs": [],
   "source": [
    "# MSBD clustering results \n",
    "dir.create(file.path('./', 'MSBD'))\n",
    "\n",
    "for(sd in list(\"C_fast\")) {\n",
    "  rfile=paste0(sd,'_lim8_ML_scores.RData')\n",
    "  result <- get(load(rfile))\n",
    "  for(weightid in 1:4) {\n",
    "    for(simid in 1:300) {\n",
    "      fname=paste0(\"./MSBD/\",sd,'_',weightid,'_',simid,'.csv')\n",
    "      write.table(as.data.frame(result[[weightid]][[simid]]),file=fname, quote=F,sep=\",\",row.names=F)\n",
    "    }\n",
    "  }\n",
    "}"
   ]
  },
  {
   "cell_type": "code",
   "execution_count": null,
   "metadata": {},
   "outputs": [],
   "source": []
  }
 ],
 "metadata": {
  "kernelspec": {
   "display_name": "R",
   "language": "R",
   "name": "ir"
  },
  "language_info": {
   "codemirror_mode": "r",
   "file_extension": ".r",
   "mimetype": "text/x-r-source",
   "name": "R",
   "pygments_lexer": "r",
   "version": "3.5.2"
  }
 },
 "nbformat": 4,
 "nbformat_minor": 2
}
